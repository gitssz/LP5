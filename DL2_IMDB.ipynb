{
  "nbformat": 4,
  "nbformat_minor": 0,
  "metadata": {
    "colab": {
      "provenance": []
    },
    "kernelspec": {
      "name": "python3",
      "display_name": "Python 3"
    },
    "language_info": {
      "name": "python"
    }
  },
  "cells": [
    {
      "cell_type": "code",
      "execution_count": null,
      "metadata": {
        "id": "XHNDExASuj4l"
      },
      "outputs": [],
      "source": [
        "from  keras.datasets import imdb\n",
        "import numpy as np\n",
        "from keras import models\n",
        "from keras import layers\n",
        "import tensorflow as tf\n",
        "\n"
      ]
    },
    {
      "cell_type": "code",
      "source": [
        "(train_data, train_labels), (test_data, test_labels) = imdb.load_data(num_words=10000)\n"
      ],
      "metadata": {
        "id": "Pr2tNdq2usK-"
      },
      "execution_count": null,
      "outputs": []
    },
    {
      "cell_type": "code",
      "source": [
        "max([max(sequence) for sequence in train_data])\n"
      ],
      "metadata": {
        "colab": {
          "base_uri": "https://localhost:8080/"
        },
        "id": "_p6Eow6GusIO",
        "outputId": "6751cdfd-416c-4af7-ce5e-f81b0dfe53ea"
      },
      "execution_count": null,
      "outputs": [
        {
          "output_type": "execute_result",
          "data": {
            "text/plain": [
              "9999"
            ]
          },
          "metadata": {},
          "execution_count": 5
        }
      ]
    },
    {
      "cell_type": "code",
      "source": [
        "word_index = imdb.get_word_index()  # mappings of words to their integer indices\n",
        "reverse_word_index = dict([(val, key) for (key, val) in word_index.items()])    # mapping indices to words\n",
        "decoded_review = ' '.join([reverse_word_index.get(i-3, '?') for i in train_data[0]])\n"
      ],
      "metadata": {
        "id": "0__JBtYausFl"
      },
      "execution_count": null,
      "outputs": []
    },
    {
      "cell_type": "code",
      "source": [
        "def vectorize(sequences, dimension=10000):\n",
        "\t\tresults = np.zeros((len(sequences), dimension))\n",
        "\t\tfor i, sequence in enumerate(sequences):\n",
        "\t\t\tresults[i, sequence] = 1\n",
        "\t\treturn results\n",
        "\n"
      ],
      "metadata": {
        "id": "AqZFlrvLusDB"
      },
      "execution_count": null,
      "outputs": []
    },
    {
      "cell_type": "code",
      "source": [],
      "metadata": {
        "id": "9-9JFb5F9B6-"
      },
      "execution_count": null,
      "outputs": []
    },
    {
      "cell_type": "code",
      "source": [
        "#input preprocessing using vectorization\n",
        "x_train = vectorize(train_data)\n",
        "x_test = vectorize(test_data)\n",
        "# ensure that the labels are in a format compatible with the model's output layer and loss function\n",
        "y_train = np.asarray(train_labels).astype('float32')\n",
        "y_test = np.asarray(test_labels).astype('float32')\n"
      ],
      "metadata": {
        "id": "tTOtJHUHu_By"
      },
      "execution_count": null,
      "outputs": []
    },
    {
      "cell_type": "code",
      "source": [
        "model = models.Sequential()\n",
        "model.add(layers.Dense(16, activation='relu', input_shape=(10000,)))\n",
        "model.add(layers.Dense(16, activation='relu'))\n",
        "model.add(layers.Dense(1, activation='sigmoid'))\n",
        "\n",
        "\n",
        "model.compile(loss = 'binary_crossentropy',optimizer='rmsprop',  metrics = ['accuracy'])\n"
      ],
      "metadata": {
        "id": "Dghx6foOusAZ"
      },
      "execution_count": null,
      "outputs": []
    },
    {
      "cell_type": "code",
      "source": [
        "tf.keras.utils.plot_model(model,show_shapes=True)"
      ],
      "metadata": {
        "colab": {
          "base_uri": "https://localhost:8080/",
          "height": 422
        },
        "id": "WzBlgIDfzSlZ",
        "outputId": "192b0a4e-6baa-47ca-8396-3b65b3c539b0"
      },
      "execution_count": null,
      "outputs": [
        {
          "output_type": "execute_result",
          "data": {
            "image/png": "[encoded data removed]",
            "text/plain": [
              "<IPython.core.display.Image object>"
            ]
          },
          "metadata": {},
          "execution_count": 9
        }
      ]
    },
    {
      "cell_type": "code",
      "source": [
        "\n",
        "\n",
        "x_val = x_train[:10000]\n",
        "y_val = y_train[:10000]\n",
        "\n",
        "# partial_x = x_train[10000:]\n",
        "# partial_y = y_train[10000:]\n"
      ],
      "metadata": {
        "id": "IXu0QNbKur9r"
      },
      "execution_count": 17,
      "outputs": []
    },
    {
      "cell_type": "code",
      "source": [
        "\n",
        "history = model.fit(x_train, y_train, epochs=20, batch_size=512, validation_data=(x_val, y_val))\n",
        "results = model.evaluate(x_test, y_test)\n",
        "print(results)\n"
      ],
      "metadata": {
        "colab": {
          "base_uri": "https://localhost:8080/"
        },
        "id": "rOb763oaP6Ag",
        "outputId": "f6e2a324-8939-4b6e-e970-4697d80518d3"
      },
      "execution_count": 18,
      "outputs": [
        {
          "output_type": "stream",
          "name": "stdout",
          "text": [
            "Epoch 1/20\n",
            "49/49 [==============================] - 2s 47ms/step - loss: 0.3454 - accuracy: 0.9466 - val_loss: 0.3192 - val_accuracy: 0.9096\n",
            "Epoch 2/20\n",
            "49/49 [==============================] - 1s 29ms/step - loss: 0.1357 - accuracy: 0.9607 - val_loss: 0.2012 - val_accuracy: 0.9372\n",
            "Epoch 3/20\n",
            "49/49 [==============================] - 1s 30ms/step - loss: 0.1014 - accuracy: 0.9708 - val_loss: 0.1403 - val_accuracy: 0.9569\n",
            "Epoch 4/20\n",
            "49/49 [==============================] - 2s 31ms/step - loss: 0.0773 - accuracy: 0.9779 - val_loss: 0.0986 - val_accuracy: 0.9720\n",
            "Epoch 5/20\n",
            "49/49 [==============================] - 2s 40ms/step - loss: 0.0550 - accuracy: 0.9850 - val_loss: 0.0931 - val_accuracy: 0.9669\n",
            "Epoch 6/20\n",
            "49/49 [==============================] - 2s 42ms/step - loss: 0.0415 - accuracy: 0.9885 - val_loss: 0.0711 - val_accuracy: 0.9773\n",
            "Epoch 7/20\n",
            "49/49 [==============================] - 1s 30ms/step - loss: 0.0295 - accuracy: 0.9922 - val_loss: 0.0359 - val_accuracy: 0.9902\n",
            "Epoch 8/20\n",
            "49/49 [==============================] - 1s 30ms/step - loss: 0.0216 - accuracy: 0.9947 - val_loss: 0.0246 - val_accuracy: 0.9923\n",
            "Epoch 9/20\n",
            "49/49 [==============================] - 2s 31ms/step - loss: 0.0162 - accuracy: 0.9961 - val_loss: 0.0167 - val_accuracy: 0.9957\n",
            "Epoch 10/20\n",
            "49/49 [==============================] - 2s 31ms/step - loss: 0.0107 - accuracy: 0.9976 - val_loss: 0.0111 - val_accuracy: 0.9968\n",
            "Epoch 11/20\n",
            "49/49 [==============================] - 2s 32ms/step - loss: 0.0081 - accuracy: 0.9981 - val_loss: 0.0074 - val_accuracy: 0.9979\n",
            "Epoch 12/20\n",
            "49/49 [==============================] - 1s 30ms/step - loss: 0.0048 - accuracy: 0.9989 - val_loss: 0.0057 - val_accuracy: 0.9984\n",
            "Epoch 13/20\n",
            "49/49 [==============================] - 2s 43ms/step - loss: 0.0043 - accuracy: 0.9988 - val_loss: 0.0039 - val_accuracy: 0.9986\n",
            "Epoch 14/20\n",
            "49/49 [==============================] - 2s 41ms/step - loss: 0.0058 - accuracy: 0.9980 - val_loss: 0.0033 - val_accuracy: 0.9990\n",
            "Epoch 15/20\n",
            "49/49 [==============================] - 1s 30ms/step - loss: 0.0018 - accuracy: 0.9995 - val_loss: 0.0026 - val_accuracy: 0.9993\n",
            "Epoch 16/20\n",
            "49/49 [==============================] - 1s 30ms/step - loss: 0.0035 - accuracy: 0.9991 - val_loss: 0.0022 - val_accuracy: 0.9993\n",
            "Epoch 17/20\n",
            "49/49 [==============================] - 2s 39ms/step - loss: 0.0031 - accuracy: 0.9991 - val_loss: 0.0019 - val_accuracy: 0.9995\n",
            "Epoch 18/20\n",
            "49/49 [==============================] - 2s 35ms/step - loss: 9.9171e-04 - accuracy: 0.9998 - val_loss: 0.0015 - val_accuracy: 0.9996\n",
            "Epoch 19/20\n",
            "49/49 [==============================] - 1s 29ms/step - loss: 0.0029 - accuracy: 0.9992 - val_loss: 0.0014 - val_accuracy: 0.9997\n",
            "Epoch 20/20\n",
            "49/49 [==============================] - 1s 29ms/step - loss: 7.1672e-04 - accuracy: 0.9998 - val_loss: 0.0013 - val_accuracy: 0.9999\n",
            "782/782 [==============================] - 3s 3ms/step - loss: 1.1080 - accuracy: 0.8586\n",
            "[1.1079909801483154, 0.8586400151252747]\n"
          ]
        }
      ]
    },
    {
      "cell_type": "code",
      "source": [
        "\n",
        "# history = model.fit(partial_x, partial_y, epochs=20, batch_size=512, validation_data=(x_val, y_val))\n",
        "# results = model.evaluate(x_test, y_test)\n",
        "# print(results)\n",
        "\n",
        "\n"
      ],
      "metadata": {
        "id": "76YILOT1vDQM"
      },
      "execution_count": 19,
      "outputs": []
    }
  ]
}
